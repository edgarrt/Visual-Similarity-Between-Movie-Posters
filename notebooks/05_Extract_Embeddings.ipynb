{
 "cells": [
  {
   "cell_type": "code",
   "execution_count": 26,
   "metadata": {},
   "outputs": [],
   "source": [
    "import os\n",
    "import sys\n",
    "import pandas as pd\n",
    "import torch\n",
    "import numpy as np\n",
    "import matplotlib.pyplot as plt\n",
    "import logging\n",
    "from torch.utils.data import DataLoader\n",
    "import multiprocessing\n",
    "import tqdm\n",
    "import ast\n",
    "from annoy import AnnoyIndex\n",
    "\n"
   ]
  },
  {
   "cell_type": "code",
   "execution_count": 3,
   "metadata": {},
   "outputs": [],
   "source": [
    "dir_path = os.path.dirname(os.path.abspath(os.getcwd()))"
   ]
  },
  {
   "cell_type": "code",
   "execution_count": 4,
   "metadata": {},
   "outputs": [],
   "source": [
    "sys.path.append(os.path.join(dir_path, \"src\"))"
   ]
  },
  {
   "cell_type": "code",
   "execution_count": 5,
   "metadata": {},
   "outputs": [
    {
     "name": "stderr",
     "output_type": "stream",
     "text": [
      "/home/main/.local/share/virtualenvs/cosc525_final_project-aJH_ag1x/lib/python3.10/site-packages/tqdm/auto.py:21: TqdmWarning: IProgress not found. Please update jupyter and ipywidgets. See https://ipywidgets.readthedocs.io/en/stable/user_install.html\n",
      "  from .autonotebook import tqdm as notebook_tqdm\n"
     ]
    }
   ],
   "source": [
    "from data_module import ImageDataModule\n",
    "from resnet import Resnet50\n",
    "from utils import collate_batch\n",
    "from dataset import ImageDataset"
   ]
  },
  {
   "cell_type": "code",
   "execution_count": 6,
   "metadata": {},
   "outputs": [],
   "source": [
    "data_channels = {\n",
    "    \"image_path\": os.path.join(dir_path, \"images\", \"raw/\"),\n",
    "    \"dataset\": os.path.join(dir_path, \"data\", \"dataset/\"),\n",
    "}"
   ]
  },
  {
   "cell_type": "code",
   "execution_count": 7,
   "metadata": {},
   "outputs": [],
   "source": [
    "dataset = ImageDataset(_dir=data_channels[\"dataset\"], image_path=data_channels[\"image_path\"])"
   ]
  },
  {
   "cell_type": "code",
   "execution_count": 8,
   "metadata": {},
   "outputs": [],
   "source": [
    "dataloader = DataLoader(\n",
    "            dataset,\n",
    "            collate_fn=collate_batch,\n",
    "            batch_size=32,\n",
    "            num_workers=multiprocessing.cpu_count()\n",
    "        )"
   ]
  },
  {
   "cell_type": "code",
   "execution_count": 9,
   "metadata": {},
   "outputs": [],
   "source": [
    "ckpt = os.path.join(dir_path, \"notebooks\",\"lightning_logs\",\"version_39\",\"checkpoints\",\"epoch=7-step=1952.ckpt\")"
   ]
  },
  {
   "cell_type": "code",
   "execution_count": 10,
   "metadata": {},
   "outputs": [
    {
     "name": "stderr",
     "output_type": "stream",
     "text": [
      "/home/main/.local/share/virtualenvs/cosc525_final_project-aJH_ag1x/lib/python3.10/site-packages/torchvision/models/_utils.py:135: UserWarning: Using 'weights' as positional parameter(s) is deprecated since 0.13 and may be removed in the future. Please use keyword parameter(s) instead.\n",
      "  warnings.warn(\n",
      "/home/main/.local/share/virtualenvs/cosc525_final_project-aJH_ag1x/lib/python3.10/site-packages/torchvision/models/_utils.py:223: UserWarning: Arguments other than a weight enum or `None` for 'weights' are deprecated since 0.13 and may be removed in the future. The current behavior is equivalent to passing `weights=ResNet50_Weights.IMAGENET1K_V1`. You can also use `weights=ResNet50_Weights.DEFAULT` to get the most up-to-date weights.\n",
      "  warnings.warn(msg)\n"
     ]
    }
   ],
   "source": [
    "model = Resnet50.load_from_checkpoint(ckpt, embedding_size=512, num_classes=19)"
   ]
  },
  {
   "cell_type": "code",
   "execution_count": 11,
   "metadata": {},
   "outputs": [],
   "source": [
    "def extract_embeddings(model, dataloader):\n",
    "    model.eval()\n",
    "    all_embeddings = []\n",
    "    all_labels = []\n",
    "    \n",
    "    with torch.no_grad():\n",
    "        for batch in tqdm.tqdm(dataloader):\n",
    "            embeddings = model(batch[\"image\"])\n",
    "            all_embeddings.append(embeddings)\n",
    "            all_labels.append(batch[\"targets\"])\n",
    "    \n",
    "    all_embeddings = torch.cat(all_embeddings, dim=0).cpu().detach().numpy()\n",
    "    all_labels = torch.cat(all_labels, dim=0).cpu().detach().numpy()\n",
    "    \n",
    "    return all_embeddings, all_labels"
   ]
  },
  {
   "cell_type": "code",
   "execution_count": 12,
   "metadata": {},
   "outputs": [],
   "source": [
    "def save_metadata(dataloader):\n",
    "    index_metadata = []\n",
    "    \n",
    "    for batch in tqdm.tqdm(dataloader):\n",
    "        index_metadata.append(batch[\"metadata\"])\n",
    "    \n",
    "    return [metadata for batch in index_metadata for metadata in batch]"
   ]
  },
  {
   "cell_type": "code",
   "execution_count": 13,
   "metadata": {},
   "outputs": [
    {
     "name": "stderr",
     "output_type": "stream",
     "text": [
      "100%|██████████| 305/305 [06:01<00:00,  1.18s/it]\n"
     ]
    }
   ],
   "source": [
    "index_embeddings, index_labels = extract_embeddings(model, dataloader)"
   ]
  },
  {
   "cell_type": "code",
   "execution_count": 14,
   "metadata": {},
   "outputs": [
    {
     "name": "stderr",
     "output_type": "stream",
     "text": [
      "100%|██████████| 305/305 [01:01<00:00,  4.96it/s]\n"
     ]
    }
   ],
   "source": [
    "index_metadata = save_metadata(dataloader)"
   ]
  },
  {
   "cell_type": "code",
   "execution_count": 17,
   "metadata": {},
   "outputs": [],
   "source": [
    "index_df = pd.DataFrame(index_metadata)"
   ]
  },
  {
   "cell_type": "code",
   "execution_count": 33,
   "metadata": {},
   "outputs": [
    {
     "data": {
      "text/html": [
       "<div>\n",
       "<style scoped>\n",
       "    .dataframe tbody tr th:only-of-type {\n",
       "        vertical-align: middle;\n",
       "    }\n",
       "\n",
       "    .dataframe tbody tr th {\n",
       "        vertical-align: top;\n",
       "    }\n",
       "\n",
       "    .dataframe thead th {\n",
       "        text-align: right;\n",
       "    }\n",
       "</style>\n",
       "<table border=\"1\" class=\"dataframe\">\n",
       "  <thead>\n",
       "    <tr style=\"text-align: right;\">\n",
       "      <th></th>\n",
       "      <th>genre</th>\n",
       "      <th>image_name</th>\n",
       "    </tr>\n",
       "  </thead>\n",
       "  <tbody>\n",
       "    <tr>\n",
       "      <th>0</th>\n",
       "      <td>['Animation']</td>\n",
       "      <td>qNBAXBIQlnOThrVvA6mA2B5ggV6.jpg</td>\n",
       "    </tr>\n",
       "    <tr>\n",
       "      <th>1</th>\n",
       "      <td>['Drama']</td>\n",
       "      <td>vJU3rXSP9hwUuLeq8IpfsJShLOk.jpg</td>\n",
       "    </tr>\n",
       "    <tr>\n",
       "      <th>2</th>\n",
       "      <td>['Science Fiction']</td>\n",
       "      <td>t6HIqrRAclMCA60NsSmeqe9RmNV.jpg</td>\n",
       "    </tr>\n",
       "    <tr>\n",
       "      <th>3</th>\n",
       "      <td>['Animation']</td>\n",
       "      <td>qVdrYN8qu7xUtsdEFeGiIVIaYd.jpg</td>\n",
       "    </tr>\n",
       "    <tr>\n",
       "      <th>4</th>\n",
       "      <td>['Comedy']</td>\n",
       "      <td>swzMoIVn6xjB857ziYJ8KBV440g.jpg</td>\n",
       "    </tr>\n",
       "    <tr>\n",
       "      <th>...</th>\n",
       "      <td>...</td>\n",
       "      <td>...</td>\n",
       "    </tr>\n",
       "    <tr>\n",
       "      <th>9734</th>\n",
       "      <td>['Comedy']</td>\n",
       "      <td>vkF8VLrazGtk9OjdEhihG6kKAhP.jpg</td>\n",
       "    </tr>\n",
       "    <tr>\n",
       "      <th>9735</th>\n",
       "      <td>['Thriller']</td>\n",
       "      <td>yw8x2i3vaHZZzpvqvF75E8q2N6M.jpg</td>\n",
       "    </tr>\n",
       "    <tr>\n",
       "      <th>9736</th>\n",
       "      <td>['Drama']</td>\n",
       "      <td>bFOmE3zCFU01TuomOOwClAWdvOD.jpg</td>\n",
       "    </tr>\n",
       "    <tr>\n",
       "      <th>9737</th>\n",
       "      <td>['Action']</td>\n",
       "      <td>kziBJGQFo9f0Vkj9s37qI0G9I0I.jpg</td>\n",
       "    </tr>\n",
       "    <tr>\n",
       "      <th>9738</th>\n",
       "      <td>['Animation']</td>\n",
       "      <td>tn65LMkjjFFRdhwV2eSFH3WRlwA.jpg</td>\n",
       "    </tr>\n",
       "  </tbody>\n",
       "</table>\n",
       "<p>9739 rows × 2 columns</p>\n",
       "</div>"
      ],
      "text/plain": [
       "                    genre                       image_name\n",
       "0           ['Animation']  qNBAXBIQlnOThrVvA6mA2B5ggV6.jpg\n",
       "1               ['Drama']  vJU3rXSP9hwUuLeq8IpfsJShLOk.jpg\n",
       "2     ['Science Fiction']  t6HIqrRAclMCA60NsSmeqe9RmNV.jpg\n",
       "3           ['Animation']   qVdrYN8qu7xUtsdEFeGiIVIaYd.jpg\n",
       "4              ['Comedy']  swzMoIVn6xjB857ziYJ8KBV440g.jpg\n",
       "...                   ...                              ...\n",
       "9734           ['Comedy']  vkF8VLrazGtk9OjdEhihG6kKAhP.jpg\n",
       "9735         ['Thriller']  yw8x2i3vaHZZzpvqvF75E8q2N6M.jpg\n",
       "9736            ['Drama']  bFOmE3zCFU01TuomOOwClAWdvOD.jpg\n",
       "9737           ['Action']  kziBJGQFo9f0Vkj9s37qI0G9I0I.jpg\n",
       "9738        ['Animation']  tn65LMkjjFFRdhwV2eSFH3WRlwA.jpg\n",
       "\n",
       "[9739 rows x 2 columns]"
      ]
     },
     "execution_count": 33,
     "metadata": {},
     "output_type": "execute_result"
    }
   ],
   "source": [
    "index_df"
   ]
  },
  {
   "attachments": {},
   "cell_type": "markdown",
   "metadata": {},
   "source": [
    "## Create Search index"
   ]
  },
  {
   "cell_type": "code",
   "execution_count": 27,
   "metadata": {},
   "outputs": [
    {
     "data": {
      "text/plain": [
       "True"
      ]
     },
     "execution_count": 27,
     "metadata": {},
     "output_type": "execute_result"
    }
   ],
   "source": [
    "embedding_size = 512\n",
    "num_trees = 40 # total genre types = 19, will try num_classes X 2 initially\n",
    "\n",
    "annoy_index = AnnoyIndex(embedding_size, 'euclidean')\n",
    "\n",
    "for i, embedding in enumerate(index_embeddings):\n",
    "    annoy_index.add_item(i, embedding)\n",
    "\n",
    "annoy_index.build(num_trees)\n"
   ]
  },
  {
   "attachments": {},
   "cell_type": "markdown",
   "metadata": {},
   "source": [
    "## Save Search index and Metadata DF"
   ]
  },
  {
   "cell_type": "code",
   "execution_count": 28,
   "metadata": {},
   "outputs": [],
   "source": [
    "annoy_index_file = 'annoy_index.ann'\n",
    "metadata_file = 'metadata.csv'"
   ]
  },
  {
   "cell_type": "code",
   "execution_count": 29,
   "metadata": {},
   "outputs": [
    {
     "data": {
      "text/plain": [
       "True"
      ]
     },
     "execution_count": 29,
     "metadata": {},
     "output_type": "execute_result"
    }
   ],
   "source": [
    "annoy_index.save(annoy_index_file)"
   ]
  },
  {
   "cell_type": "code",
   "execution_count": 34,
   "metadata": {},
   "outputs": [],
   "source": [
    "index_df.to_csv(metadata_file)\n"
   ]
  },
  {
   "cell_type": "code",
   "execution_count": null,
   "metadata": {},
   "outputs": [],
   "source": []
  }
 ],
 "metadata": {
  "kernelspec": {
   "display_name": "cosc525_final_project-aJH_ag1x",
   "language": "python",
   "name": "python3"
  },
  "language_info": {
   "codemirror_mode": {
    "name": "ipython",
    "version": 3
   },
   "file_extension": ".py",
   "mimetype": "text/x-python",
   "name": "python",
   "nbconvert_exporter": "python",
   "pygments_lexer": "ipython3",
   "version": "3.10.6"
  },
  "orig_nbformat": 4
 },
 "nbformat": 4,
 "nbformat_minor": 2
}
